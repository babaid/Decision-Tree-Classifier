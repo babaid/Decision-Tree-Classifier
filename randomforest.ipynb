{
 "cells": [
  {
   "cell_type": "markdown",
   "id": "16c66c05-9268-426e-b931-425bc43789b5",
   "metadata": {},
   "source": [
    "The next step after implementing decision trees is to use an ensemble of them. A random forest contains multiple decision trees. Th training data is bootstrapped from the starting dataset and no tree is fitted using all features, but only a subset of those too. So lets go on and implement these things step by step."
   ]
  },
  {
   "cell_type": "code",
   "execution_count": null,
   "id": "b29628f5-9197-4600-924d-7f62aca46b60",
   "metadata": {},
   "outputs": [],
   "source": [
    "using Pkg;\n",
    "Pkg.activate(\".\")"
   ]
  },
  {
   "cell_type": "code",
   "execution_count": 1,
   "id": "75aa5ab9-d053-4e66-83ba-70a9ac0a581e",
   "metadata": {},
   "outputs": [],
   "source": [
    "using MLDatasets, DataFrames, Random, StatsBase"
   ]
  },
  {
   "cell_type": "code",
   "execution_count": 2,
   "id": "f6b8a773-4de0-4da4-a143-4e475bd6a4cd",
   "metadata": {},
   "outputs": [
    {
     "data": {
      "text/plain": [
       "Main.MyDecisionTree"
      ]
     },
     "execution_count": 2,
     "metadata": {},
     "output_type": "execute_result"
    }
   ],
   "source": [
    "include(\"DecisionTrees.jl\")"
   ]
  },
  {
   "cell_type": "code",
   "execution_count": 3,
   "id": "37e2ad3c-7d64-4843-874d-8430362ce4ad",
   "metadata": {},
   "outputs": [],
   "source": [
    "using .MyDecisionTree: DecisionTreeClassifier, calculate_prob, traverse, train!, gini_impurity"
   ]
  },
  {
   "cell_type": "code",
   "execution_count": 4,
   "id": "48561917-2e2c-4369-89eb-42289e2d402f",
   "metadata": {},
   "outputs": [],
   "source": [
    "iris = Iris()\n",
    "str_to_class = Dict{String, Int64}([(\"Iris-setosa\", 0) ,(\"Iris-versicolor\", 1), (\"Iris-virginica\", 2)])\n",
    "class_to_str = Dict{Int64, String}([(v, k) for (k, v) in str_to_class])\n",
    "map(i->(str_to_class[i]), iris.targets.class)\n",
    "\n",
    "#I merge here the targets into the feature DataFrame for easier filtering later on.\n",
    "iris.features.class = map(i->(str_to_class[i]), iris.targets.class);"
   ]
  },
  {
   "cell_type": "code",
   "execution_count": 5,
   "id": "64d20a91-e432-4d4e-8875-e5e619a050e9",
   "metadata": {},
   "outputs": [
    {
     "data": {
      "text/plain": [
       "bootstrap_subset (generic function with 3 methods)"
      ]
     },
     "execution_count": 5,
     "metadata": {},
     "output_type": "execute_result"
    }
   ],
   "source": [
    "#\n",
    "function bootstrap_subset(data::DataFrame, n_sub_features::Int64, n_samples::Int64=0, target_name::String=\"class\")\n",
    "    N = size(data)[1]\n",
    "    feature_names = [name for name in names(data) if name != String(target_name)]\n",
    "    \n",
    "    if n_sub_features >= N\n",
    "        prinln(\"Too much subfeatures defined, going to use N-1\")\n",
    "        n_sub_features = N -1\n",
    "    end\n",
    "    \n",
    "    if n_samples == 0\n",
    "        n_samples = N\n",
    "    end\n",
    "    subset_features = sample(feature_names, n_sub_features; replace=false)\n",
    "    push!(subset_features, target_name)\n",
    "    subset_idxs = rand(1:N, n_samples)\n",
    "    subset = data[subset_idxs, subset_features]\n",
    "    return subset\n",
    "end"
   ]
  },
  {
   "cell_type": "code",
   "execution_count": 6,
   "id": "5d400c10-c453-454a-85fe-71cd0de3b9c9",
   "metadata": {},
   "outputs": [],
   "source": [
    "mutable struct RandomForestClassifier\n",
    "    n_classifiers::Int64\n",
    "    n_samples::Int64\n",
    "    n_sub_features::Int64\n",
    "    trees::Vector{DecisionTreeClassifier}\n",
    "    tree_constructor_args::Union{Missing, Dict{String, Any}}\n",
    "end"
   ]
  },
  {
   "cell_type": "code",
   "execution_count": 7,
   "id": "d58c290c-7bf4-4c6a-a09f-6d5e9e72c1b5",
   "metadata": {},
   "outputs": [
    {
     "data": {
      "text/plain": [
       "RandomForestClassifier"
      ]
     },
     "execution_count": 7,
     "metadata": {},
     "output_type": "execute_result"
    }
   ],
   "source": [
    "RandomForestClassifier(n_classifiers::Int64, \n",
    "                        n_samples::Int64,\n",
    "                        n_sub_features::Int64, \n",
    "                        tree_constructor_args::Union{Missing, Dict{String, Any}}) = \n",
    "\n",
    "RandomForestClassifier(n_classifiers, \n",
    "                    n_samples,n_sub_features,\n",
    "                    [DecisionTreeClassifier(gini_impurity,tree_constructor_args[\"max_depth\"][i], tree_constructor_args[\"min_samples_leaf\"][i], tree_constructor_args[\"min_impurity_decrease\"][i]) for i in 1:n_classifiers], \n",
    "                    tree_constructor_args)\n",
    "\n",
    "\n",
    "RandomForestClassifier(n_classifiers::Int64, \n",
    "                            n_samples::Int64,\n",
    "                                n_sub_features::Int64) = \n",
    "\n",
    "RandomForestClassifier(n_classifiers, \n",
    "                    n_samples,n_sub_features,\n",
    "                    [DecisionTreeClassifier(gini_impurity,5,20,1e-2) for i in 1:n_classifiers], missing)\n",
    "\n"
   ]
  },
  {
   "cell_type": "code",
   "execution_count": 8,
   "id": "9709c25a-d838-49bb-9d24-a6bbf57861b5",
   "metadata": {},
   "outputs": [],
   "source": [
    "function Main.train!(tree::DecisionTreeClassifier, data::DataFrame, target_name::Symbol, classes::Vector{Int64})\n",
    "    train!(tree.root, data, target_name,classes, tree.impurity_measure, tree.max_depth, tree.min_samples_leaf, tree.min_impurity_decrease)\n",
    "end"
   ]
  },
  {
   "cell_type": "code",
   "execution_count": 9,
   "id": "ab84b2f1-550e-48b7-9eae-58fd6e3309eb",
   "metadata": {},
   "outputs": [],
   "source": [
    "function Main.train!(forest::RandomForestClassifier, dataset::DataFrame)\n",
    "    for t in forest.trees\n",
    "        subset = bootstrap_subset(dataset, 3, 0, \"class\")\n",
    "        feature_names = [name for name in names(subset) if name != \"class\"]\n",
    "        t.features = feature_names\n",
    "        train!(t, subset, :class, [0, 1, 2])\n",
    "    end\n",
    "end"
   ]
  },
  {
   "cell_type": "code",
   "execution_count": 10,
   "id": "ee747d12-3ab7-4ff7-b231-445382db1d23",
   "metadata": {
    "scrolled": true
   },
   "outputs": [
    {
     "data": {
      "text/plain": [
       "20"
      ]
     },
     "execution_count": 10,
     "metadata": {},
     "output_type": "execute_result"
    }
   ],
   "source": [
    "n_classifiers = 20"
   ]
  },
  {
   "cell_type": "code",
   "execution_count": 11,
   "id": "c008d7d5-8164-40a3-be2d-9ca23dcc65cd",
   "metadata": {},
   "outputs": [
    {
     "data": {
      "text/plain": [
       "Dict{String, Any} with 3 entries:\n",
       "  \"min_impurity_decrease\" => [0.13, 0.011, 0.041, 0.488, 0.318, 0.07, 0.217, 0.…\n",
       "  \"max_depth\"             => [8, 6, 3, 6, 4, 8, 10, 6, 4, 10, 7, 4, 6, 8, 5, 6,…\n",
       "  \"min_samples_leaf\"      => [30, 7, 22, 23, 12, 20, 17, 7, 30, 22, 30, 28, 26,…"
      ]
     },
     "execution_count": 11,
     "metadata": {},
     "output_type": "execute_result"
    }
   ],
   "source": [
    "args = Dict{String, Any}([(\"max_depth\", rand(3:10, n_classifiers)), \n",
    "                                (\"min_samples_leaf\", rand(5:30, n_classifiers)), \n",
    "                                (\"min_impurity_decrease\", rand(0:0.001:0.5, n_classifiers))])"
   ]
  },
  {
   "cell_type": "code",
   "execution_count": 12,
   "id": "b43d3c24-abce-4032-89c1-c77a6f54e994",
   "metadata": {
    "scrolled": true
   },
   "outputs": [
    {
     "data": {
      "text/plain": [
       "RandomForestClassifier(20, 200, 2, DecisionTreeClassifier[DecisionTreeClassifier(Main.MyDecisionTree.ClassifierNode(missing, missing, missing, 0, missing, missing, missing), missing, Main.MyDecisionTree.gini_impurity, 8, 30, 0.13), DecisionTreeClassifier(Main.MyDecisionTree.ClassifierNode(missing, missing, missing, 0, missing, missing, missing), missing, Main.MyDecisionTree.gini_impurity, 6, 7, 0.011), DecisionTreeClassifier(Main.MyDecisionTree.ClassifierNode(missing, missing, missing, 0, missing, missing, missing), missing, Main.MyDecisionTree.gini_impurity, 3, 22, 0.041), DecisionTreeClassifier(Main.MyDecisionTree.ClassifierNode(missing, missing, missing, 0, missing, missing, missing), missing, Main.MyDecisionTree.gini_impurity, 6, 23, 0.488), DecisionTreeClassifier(Main.MyDecisionTree.ClassifierNode(missing, missing, missing, 0, missing, missing, missing), missing, Main.MyDecisionTree.gini_impurity, 4, 12, 0.318), DecisionTreeClassifier(Main.MyDecisionTree.ClassifierNode(missing, missing, missing, 0, missing, missing, missing), missing, Main.MyDecisionTree.gini_impurity, 8, 20, 0.07), DecisionTreeClassifier(Main.MyDecisionTree.ClassifierNode(missing, missing, missing, 0, missing, missing, missing), missing, Main.MyDecisionTree.gini_impurity, 10, 17, 0.217), DecisionTreeClassifier(Main.MyDecisionTree.ClassifierNode(missing, missing, missing, 0, missing, missing, missing), missing, Main.MyDecisionTree.gini_impurity, 6, 7, 0.278), DecisionTreeClassifier(Main.MyDecisionTree.ClassifierNode(missing, missing, missing, 0, missing, missing, missing), missing, Main.MyDecisionTree.gini_impurity, 4, 30, 0.366), DecisionTreeClassifier(Main.MyDecisionTree.ClassifierNode(missing, missing, missing, 0, missing, missing, missing), missing, Main.MyDecisionTree.gini_impurity, 10, 22, 0.371), DecisionTreeClassifier(Main.MyDecisionTree.ClassifierNode(missing, missing, missing, 0, missing, missing, missing), missing, Main.MyDecisionTree.gini_impurity, 7, 30, 0.291), DecisionTreeClassifier(Main.MyDecisionTree.ClassifierNode(missing, missing, missing, 0, missing, missing, missing), missing, Main.MyDecisionTree.gini_impurity, 4, 28, 0.157), DecisionTreeClassifier(Main.MyDecisionTree.ClassifierNode(missing, missing, missing, 0, missing, missing, missing), missing, Main.MyDecisionTree.gini_impurity, 6, 26, 0.323), DecisionTreeClassifier(Main.MyDecisionTree.ClassifierNode(missing, missing, missing, 0, missing, missing, missing), missing, Main.MyDecisionTree.gini_impurity, 8, 20, 0.187), DecisionTreeClassifier(Main.MyDecisionTree.ClassifierNode(missing, missing, missing, 0, missing, missing, missing), missing, Main.MyDecisionTree.gini_impurity, 5, 17, 0.07), DecisionTreeClassifier(Main.MyDecisionTree.ClassifierNode(missing, missing, missing, 0, missing, missing, missing), missing, Main.MyDecisionTree.gini_impurity, 6, 12, 0.287), DecisionTreeClassifier(Main.MyDecisionTree.ClassifierNode(missing, missing, missing, 0, missing, missing, missing), missing, Main.MyDecisionTree.gini_impurity, 7, 16, 0.056), DecisionTreeClassifier(Main.MyDecisionTree.ClassifierNode(missing, missing, missing, 0, missing, missing, missing), missing, Main.MyDecisionTree.gini_impurity, 4, 6, 0.195), DecisionTreeClassifier(Main.MyDecisionTree.ClassifierNode(missing, missing, missing, 0, missing, missing, missing), missing, Main.MyDecisionTree.gini_impurity, 3, 16, 0.209), DecisionTreeClassifier(Main.MyDecisionTree.ClassifierNode(missing, missing, missing, 0, missing, missing, missing), missing, Main.MyDecisionTree.gini_impurity, 5, 28, 0.416)], Dict{String, Any}(\"min_impurity_decrease\" => [0.13, 0.011, 0.041, 0.488, 0.318, 0.07, 0.217, 0.278, 0.366, 0.371, 0.291, 0.157, 0.323, 0.187, 0.07, 0.287, 0.056, 0.195, 0.209, 0.416], \"max_depth\" => [8, 6, 3, 6, 4, 8, 10, 6, 4, 10, 7, 4, 6, 8, 5, 6, 7, 4, 3, 5], \"min_samples_leaf\" => [30, 7, 22, 23, 12, 20, 17, 7, 30, 22, 30, 28, 26, 20, 17, 12, 16, 6, 16, 28]))"
      ]
     },
     "execution_count": 12,
     "metadata": {},
     "output_type": "execute_result"
    }
   ],
   "source": [
    "RFC = RandomForestClassifier(20, 200, 2, args)"
   ]
  },
  {
   "cell_type": "code",
   "execution_count": 13,
   "id": "486f60bb-0448-4f14-8e68-4dfaa0a2b089",
   "metadata": {},
   "outputs": [],
   "source": [
    "train!(RFC, iris.features)"
   ]
  },
  {
   "cell_type": "code",
   "execution_count": 14,
   "id": "85592751-411f-4a49-8a9c-488fc9a98afc",
   "metadata": {},
   "outputs": [
    {
     "data": {
      "text/plain": [
       "predict_majority (generic function with 1 method)"
      ]
     },
     "execution_count": 14,
     "metadata": {},
     "output_type": "execute_result"
    }
   ],
   "source": [
    "function predict_majority(RFC::RandomForestClassifier, x::Union{DataFrame, DataFrameRow}, cstr)\n",
    "    prediction_counts = Dict{String, Int64}([(cls, 0) for cls in values(cstr)])\n",
    "    for DT in RFC.trees\n",
    "        x_sub = x[DT.features]\n",
    "        curr_node = DT.root\n",
    "        while !ismissing(curr_node.thresh)\n",
    "            if x[curr_node.split] < curr_node.thresh\n",
    "                curr_node = curr_node.left\n",
    "            else\n",
    "                curr_node = curr_node.right\n",
    "            end\n",
    "        end\n",
    "        prediction_counts[cstr[calculate_prob(curr_node.class_count)]] += 1\n",
    "    end\n",
    "    return collect(keys(prediction_counts))[argmax(collect(values(prediction_counts)))]\n",
    "end\n",
    "    "
   ]
  },
  {
   "cell_type": "code",
   "execution_count": 15,
   "id": "b21db076-7ba1-44bd-9eb1-43e9b837ab62",
   "metadata": {},
   "outputs": [
    {
     "data": {
      "text/plain": [
       "\"Iris-setosa\""
      ]
     },
     "execution_count": 15,
     "metadata": {},
     "output_type": "execute_result"
    }
   ],
   "source": [
    "predict_majority(RFC, iris.features[1, :], class_to_str)"
   ]
  },
  {
   "cell_type": "code",
   "execution_count": 16,
   "id": "b53909dc-fbd9-4f29-b6be-c8d232644177",
   "metadata": {},
   "outputs": [
    {
     "data": {
      "text/plain": [
       "\"Iris-setosa\""
      ]
     },
     "execution_count": 16,
     "metadata": {},
     "output_type": "execute_result"
    }
   ],
   "source": [
    "class_to_str[iris.features[1, :].class]"
   ]
  },
  {
   "cell_type": "code",
   "execution_count": 17,
   "id": "d6b913b1-4e12-4398-89f6-a543e5e2ecd3",
   "metadata": {},
   "outputs": [
    {
     "data": {
      "text/plain": [
       "print_rft_tree (generic function with 1 method)"
      ]
     },
     "execution_count": 17,
     "metadata": {},
     "output_type": "execute_result"
    }
   ],
   "source": [
    "function print_rft_tree(RFC::RandomForestClassifier, n::Int64)\n",
    "    traverse(RFC.trees[n].root, 30, class_to_str)\n",
    "end"
   ]
  },
  {
   "cell_type": "code",
   "execution_count": 28,
   "id": "6d60d061-511f-4a28-a07f-122d6c390bf4",
   "metadata": {},
   "outputs": [
    {
     "name": "stdout",
     "output_type": "stream",
     "text": [
      "                              |sepalwidth < 2.4\n",
      "                              |class distribution: [49, 55, 46]\n",
      "                              -----------------------------------------------\n",
      "                             /                                \\\n",
      "                            /                                  \\\n",
      "                           /                                    \\\n",
      "                          /                                      \\\n",
      "                         /                                        \\\n",
      "               Predicted Class: Iris-versicolor\n",
      "               |class distribution: [1, 2, 5]\n",
      "                                                                     \\\n",
      "                                                                      \\\n",
      "                                                                       \\\n",
      "                                                                        \\\n",
      "                                                                         \\\n",
      "                                             |sepalwidth < 2.6\n",
      "                                             |class distribution: [48, 53, 41]\n",
      "                                             -----------------------------------------------\n",
      "                                            /                                               \\\n",
      "                                           /                                                 \\\n",
      "                                          /                                                   \\\n",
      "                                         /                                                     \\\n",
      "                                        /                                                       \\\n",
      "                              Predicted Class: Iris-versicolor\n",
      "                              |class distribution: [0, 1, 7]\n",
      "                                                                                                   \\\n",
      "                                                                                                    \\\n",
      "                                                                                                     \\\n",
      "                                                                                                      \\\n",
      "                                                                                                       \\\n",
      "                                                                           Predicted Class: Iris-virginica\n",
      "                                                                           |class distribution: [48, 52, 34]\n"
     ]
    }
   ],
   "source": [
    "print_rft_tree(RFC, 2)"
   ]
  },
  {
   "cell_type": "code",
   "execution_count": null,
   "id": "27639aeb-5f31-42ef-aa4b-3cd80c8099c5",
   "metadata": {},
   "outputs": [],
   "source": []
  }
 ],
 "metadata": {
  "kernelspec": {
   "display_name": "Julia 1.9.2",
   "language": "julia",
   "name": "julia-1.9"
  },
  "language_info": {
   "file_extension": ".jl",
   "mimetype": "application/julia",
   "name": "julia",
   "version": "1.9.4"
  }
 },
 "nbformat": 4,
 "nbformat_minor": 5
}
